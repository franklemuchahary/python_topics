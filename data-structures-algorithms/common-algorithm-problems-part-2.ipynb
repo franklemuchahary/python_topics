{
 "cells": [
  {
   "cell_type": "markdown",
   "id": "30540433-6a57-4856-9600-ac4ed358923b",
   "metadata": {},
   "source": [
    "### 1. `Recursion and Backtracking`"
   ]
  },
  {
   "cell_type": "markdown",
   "id": "11f60509-542c-4248-86fd-e9e2d0e753be",
   "metadata": {},
   "source": [
    "**>> Generate All Possible Sub-Array Combinations**"
   ]
  },
  {
   "cell_type": "code",
   "execution_count": 11,
   "id": "29f8560f-bc00-4f6e-b6ba-0e9fe2c7fbd7",
   "metadata": {},
   "outputs": [
    {
     "name": "stdout",
     "output_type": "stream",
     "text": [
      "Result: \n",
      "[1]\n",
      "[1, 2]\n",
      "[1, 2, 3]\n",
      "[1, 2, 3, 4]\n",
      "[1, 2, 4]\n",
      "[1, 3]\n",
      "[1, 3, 4]\n",
      "[1, 4]\n",
      "[2]\n",
      "[2, 3]\n",
      "[2, 3, 4]\n",
      "[2, 4]\n",
      "[3]\n",
      "[3, 4]\n",
      "[4]\n"
     ]
    }
   ],
   "source": [
    "class GetSubset:\n",
    "    def __init__(self):\n",
    "        self.final = []\n",
    "    \n",
    "    def get_subsets(self, arr, interim_res):\n",
    "        for idx_i, i in enumerate(arr):\n",
    "            interim_res.append(i)\n",
    "            \n",
    "            self.final.append(interim_res.copy())\n",
    "            \n",
    "            ### recursion call by passing the array starting from current_index + 1\n",
    "            self.get_subsets(arr[idx_i+1:], interim_res = interim_res)\n",
    "        \n",
    "            del interim_res[-1]\n",
    "\n",
    "            \n",
    "########################## TEST RUNS ##########################\n",
    "\n",
    "arr = [1,2,3,4]\n",
    "gs = GetSubset()\n",
    "gs.get_subsets(arr, [])\n",
    "print(\"Result: \", *gs.final, sep=\"\\n\")"
   ]
  },
  {
   "cell_type": "markdown",
   "id": "e8024ae2-1549-4460-96ae-c4d1d382b6fc",
   "metadata": {},
   "source": [
    "**>> `Combination Sum Problem:` For a given `target sum`, generate all possible `sub-arrays (with replacement)` that sum up to the given target**"
   ]
  },
  {
   "cell_type": "code",
   "execution_count": 9,
   "id": "d4298e0b-3c0c-4e07-bb21-71840a45774b",
   "metadata": {},
   "outputs": [
    {
     "name": "stdout",
     "output_type": "stream",
     "text": [
      "Result:  [[1, 1, 1, 1, 1, 1], [1, 1, 1, 1, 2], [1, 1, 1, 3], [1, 1, 2, 2], [1, 1, 4], [1, 2, 3], [2, 2, 2], [2, 4], [3, 3]]\n",
      "\n",
      "Result:  [[2, 2, 5], [2, 7], [9]]\n",
      "\n",
      "Result:  []\n",
      "\n"
     ]
    }
   ],
   "source": [
    "def get_sum_subsets(og_sum_target, my_list, interim_target, interim_sum, interim_res):\n",
    "    for idx_i, i in enumerate(my_list):\n",
    "        \n",
    "        if interim_target < 0:\n",
    "            # break out of the loop if we have exceeded the sum criteria\n",
    "            break\n",
    "\n",
    "        if interim_sum == og_sum_target:\n",
    "            # need to use copy while appending or else the delete at the end of the loop \n",
    "            # will delete inside FINAL_RESULT too because it works by memory reference\n",
    "            FINAL_RESULT.append(interim_res.copy())  \n",
    "            break # break out of the loop if we have got a sum combination\n",
    "\n",
    "        # update interim result list and interim sum for each element\n",
    "        # this part will be executed only if the above two if conditions are not met\n",
    "        interim_res.append(i)\n",
    "        interim_sum += i\n",
    "\n",
    "        # recursion call\n",
    "        # this will get called for each iteration of the elements in the list\n",
    "        # subtract the element that was appended for each iteration from interim_target\n",
    "        # pass the updated interim target and interim sum\n",
    "        get_sum_subsets(og_sum_target, my_list[idx_i:], interim_target-i, interim_sum, interim_res = interim_res)\n",
    "\n",
    "        # because of the recursion call this part will run after we enter either of the if statements shown above\n",
    "        # i.e if we exceed the threshold for sum or if we find a correct sum criteria\n",
    "        # it basically says that we have met a criteria or exceeded\n",
    "        # so we need to delete an appended number from interim_res and try a different number now\n",
    "        interim_sum -= interim_res[-1]\n",
    "        del interim_res[-1]\n",
    "\n",
    "        \n",
    "########################## TEST RUNS ##########################\n",
    "FINAL_RESULT = []        \n",
    "test_list = [1,2,3,4]; sum_target = 6\n",
    "get_sum_subsets(sum_target, test_list, interim_target = sum_target, interim_sum = 0, interim_res = [])\n",
    "print(\"Result: \", FINAL_RESULT, end=\"\\n\\n\")\n",
    "\n",
    "FINAL_RESULT = []\n",
    "test_list = [2,5,7,9]; sum_target = 9\n",
    "get_sum_subsets(sum_target, test_list, interim_target = sum_target, interim_sum = 0, interim_res = [])\n",
    "print(\"Result: \", FINAL_RESULT, end=\"\\n\\n\")\n",
    "\n",
    "FINAL_RESULT = []\n",
    "test_list = [100]; sum_target = 6\n",
    "get_sum_subsets(sum_target, test_list, interim_target = sum_target, interim_sum = 0, interim_res = [])\n",
    "print(\"Result: \", FINAL_RESULT, end=\"\\n\\n\")"
   ]
  }
 ],
 "metadata": {
  "kernelspec": {
   "display_name": "Python 3 (ipykernel)",
   "language": "python",
   "name": "python3"
  },
  "language_info": {
   "codemirror_mode": {
    "name": "ipython",
    "version": 3
   },
   "file_extension": ".py",
   "mimetype": "text/x-python",
   "name": "python",
   "nbconvert_exporter": "python",
   "pygments_lexer": "ipython3",
   "version": "3.9.13"
  }
 },
 "nbformat": 4,
 "nbformat_minor": 5
}
