{
  "cells": [
    {
      "cell_type": "markdown",
      "id": "6b129522-41c2-4d59-aaeb-e30545c91f73",
      "metadata": {
        "id": "6b129522-41c2-4d59-aaeb-e30545c91f73"
      },
      "source": [
        "### 1. `Kadane's Algorithm`"
      ]
    },
    {
      "cell_type": "markdown",
      "id": "4dcbf622-5771-426d-b572-5a6e1faf238f",
      "metadata": {
        "id": "4dcbf622-5771-426d-b572-5a6e1faf238f"
      },
      "source": [
        "**>> Max Sum Subarray:** Finding Sub-Array with Max Sum within a given Array"
      ]
    },
    {
      "cell_type": "code",
      "execution_count": null,
      "id": "f2708146-c077-451a-bb37-3aed57c30ac7",
      "metadata": {
        "id": "f2708146-c077-451a-bb37-3aed57c30ac7",
        "outputId": "f0c6da3d-ccb9-4370-c36e-212465e8a9f1"
      },
      "outputs": [
        {
          "name": "stdout",
          "output_type": "stream",
          "text": [
            "Maximum Subarray Sum:  6\n",
            "Subarray with Max Sum:  [4, -1, 2, 1]\n"
          ]
        }
      ],
      "source": [
        "#nums = [1]\n",
        "#nums = [5,4,-1,7,8]\n",
        "nums = [2,1,-3,4,-1,2,1,-5,4]\n",
        "\n",
        "s = nums[0]\n",
        "overall_sums = nums[0]\n",
        "#0 index = start index of array, 1 index = end index of array\n",
        "start_end_indexes = [0, 0]\n",
        "\n",
        "for idx, i in enumerate(nums[1:]):\n",
        "    #print(s, overall_sums, s+i, i)\n",
        "    if i < (s + i):\n",
        "        s += i\n",
        "        #this part is needed if we want to get the subarray too. if we just want the sum, this is not needed\n",
        "        if overall_sums < s:\n",
        "            start_end_indexes[1] = idx + 1\n",
        "    else:\n",
        "        s = i\n",
        "        #this part is needed if we want to get the subarray too. if we just want the sum, this is not needed\n",
        "        start_end_indexes[0] = idx + 1\n",
        "        start_end_indexes[1] = idx + 1\n",
        "    \n",
        "    overall_sums = max(overall_sums, s)\n",
        "\n",
        "print(\"Maximum Subarray Sum: \", overall_sums)\n",
        "print(\"Subarray with Max Sum: \", nums[start_end_indexes[0]:start_end_indexes[1]+1])#"
      ]
    },
    {
      "cell_type": "markdown",
      "id": "5a82c61e-fedc-47d4-aaeb-5ba4c7a7735b",
      "metadata": {
        "id": "5a82c61e-fedc-47d4-aaeb-5ba4c7a7735b"
      },
      "source": [
        " "
      ]
    },
    {
      "cell_type": "markdown",
      "id": "22ee1648-da0f-4e6e-a0cc-8cb4f83f5868",
      "metadata": {
        "id": "22ee1648-da0f-4e6e-a0cc-8cb4f83f5868"
      },
      "source": [
        "**>> Best Time to Buy and Sell Stock** <br>\n",
        "You are given an array prices where prices[i] is the price of a given stock on the ith day.\n",
        "You want to maximize your profit by choosing a single day to buy one stock and choosing a different day in the future to sell that stock."
      ]
    },
    {
      "cell_type": "code",
      "execution_count": null,
      "id": "47ce1058-8d97-4907-8495-0013d121b775",
      "metadata": {
        "id": "47ce1058-8d97-4907-8495-0013d121b775",
        "outputId": "caba358c-6957-44aa-8ab7-96491e0597eb"
      },
      "outputs": [
        {
          "name": "stdout",
          "output_type": "stream",
          "text": [
            "Max Profit: 5\n",
            "Buy & Sell Prices: 1, 4\n"
          ]
        }
      ],
      "source": [
        "prices = [7,1,5,3,6,4]\n",
        "#prices = [7,6,4,3,1]\n",
        "\n",
        "max_profit = 0\n",
        "buy_idx = 0\n",
        "sell_idx = 0\n",
        "\n",
        "for idx, i in enumerate(prices[1:]):\n",
        "    #print(i, prices[buy_idx])\n",
        "    if i < prices[buy_idx]:\n",
        "        buy_idx = idx+1\n",
        "    else:\n",
        "        sell_idx = idx+1\n",
        "        max_profit = max(max_profit, prices[sell_idx]-prices[buy_idx])\n",
        "\n",
        "print(\"Max Profit:\", max_profit)\n",
        "print(\"Buy & Sell Prices: \", prices[buy_idx], \", \", prices[sell_idx], sep=\"\")"
      ]
    },
    {
      "cell_type": "markdown",
      "id": "fb13bdcd-05c0-4b2e-9713-71f35eb0d691",
      "metadata": {
        "id": "fb13bdcd-05c0-4b2e-9713-71f35eb0d691"
      },
      "source": [
        "### 2. `Two Sum Problem:` Given an array of integers nums and an integer target, return indices of the two numbers such that they add up to target"
      ]
    },
    {
      "cell_type": "code",
      "execution_count": null,
      "id": "94e50fae-ceba-4ef2-9c98-5ce73d0ddba7",
      "metadata": {
        "id": "94e50fae-ceba-4ef2-9c98-5ce73d0ddba7",
        "outputId": "59c676dd-1302-4e75-99cd-d0f691c6fe20"
      },
      "outputs": [
        {
          "name": "stdout",
          "output_type": "stream",
          "text": [
            "Solution:  [2, 3]\n"
          ]
        }
      ],
      "source": [
        "### using hash tables ###\n",
        "\n",
        "nums, target = [1,3,2,7,11,15], 9\n",
        "#nums, target = [3,3], 6\n",
        "\n",
        "helper_dict = {1:True, 3:True, 2:True}\n",
        "\n",
        "helper_dict[9-7]\n",
        "\n",
        "for idx, i in enumerate(nums):\n",
        "    target_minus_num = target - i\n",
        "    #print(i, target_minus_num, helper_dict, end=\"\\n\\n\")\n",
        "\n",
        "    if helper_dict.get(target_minus_num) is not None:\n",
        "         print(\"Solution: \", [helper_dict[target_minus_num], idx])\n",
        "\n",
        "    helper_dict[i] = idx"
      ]
    },
    {
      "cell_type": "code",
      "execution_count": null,
      "id": "1b835b7b-7fe5-407a-a3c7-0063d01ecfc8",
      "metadata": {
        "id": "1b835b7b-7fe5-407a-a3c7-0063d01ecfc8",
        "outputId": "2a6ed7de-13a6-441b-a9c9-db7588a2e77a"
      },
      "outputs": [
        {
          "name": "stdout",
          "output_type": "stream",
          "text": [
            "Result Indices: [1, 2]\n"
          ]
        }
      ],
      "source": [
        "### if the arrays are pre-sorted -> Use Two Pointer Algorithm. It has a space complexitiy of O(1)\n",
        "\n",
        "#numbers = [2,7,11,15]; target = 9\n",
        "#numbers = [-1,0]; target = -1\n",
        "numbers = [5,25,75]; target = 100\n",
        "\n",
        "n = len(numbers)\n",
        "i = 0; j=1\n",
        "while i < n and j < n:\n",
        "    n_sum = numbers[i] + numbers[n-j]\n",
        "\n",
        "    if  n_sum == target:\n",
        "        print(\"Result Indices:\", [i, n-j])\n",
        "        break\n",
        "\n",
        "    if n_sum > target:\n",
        "        j += 1\n",
        "    else:\n",
        "        i += 1"
      ]
    },
    {
      "cell_type": "markdown",
      "id": "536a908b-4327-4b58-a1a0-dca62cf985ce",
      "metadata": {
        "id": "536a908b-4327-4b58-a1a0-dca62cf985ce"
      },
      "source": [
        "### 3. `Two Pointer Algorithm` "
      ]
    },
    {
      "cell_type": "markdown",
      "id": "0455cac4-3e89-434d-9ed0-50d4e1538ed3",
      "metadata": {
        "id": "0455cac4-3e89-434d-9ed0-50d4e1538ed3"
      },
      "source": [
        "**>> Merge Two Pre-Sorted Arrays**<br>\n",
        "\n",
        "Given two integer arrays nums1 and nums2, sorted in non-decreasing order, and two integers m and n, representing the number of elements in nums1 and nums2 respectively. Merge nums1 and nums2 into a single array sorted in non-decreasing order. `nums1` has a length of `m + n`, where the first m elements denote the elements that should be merged, and the last n elements are set to 0 and should be ignored. `nums2` has a length of n."
      ]
    },
    {
      "cell_type": "code",
      "execution_count": null,
      "id": "53327c28-37a3-4297-a8df-0795040a1e99",
      "metadata": {
        "id": "53327c28-37a3-4297-a8df-0795040a1e99",
        "outputId": "e9cb4839-4708-45e0-9b60-f85f21659cb6"
      },
      "outputs": [
        {
          "name": "stdout",
          "output_type": "stream",
          "text": [
            "Result:  [-2, 1, 2, 5, 6, 8]\n"
          ]
        }
      ],
      "source": [
        "nums1, m = [1,2,8,0,0,0], 3\n",
        "nums2, n = [-2,5,6], 3\n",
        "\n",
        "\n",
        "nums1_copy = nums1[0:m].copy()\n",
        "idx = 0\n",
        "\n",
        "while m > 0 and n > 0:\n",
        "    if nums1_copy[0] < nums2[0]:\n",
        "        nums1[idx] = nums1_copy[0]\n",
        "        del nums1_copy[0]\n",
        "        m -= 1\n",
        "    else:\n",
        "        nums1[idx] = nums2[0]\n",
        "        del nums2[0]\n",
        "        n -= 1\n",
        "    idx += 1\n",
        "\n",
        "if m!=0:\n",
        "    nums1[idx:] = nums1_copy\n",
        "else:\n",
        "    nums1[idx:] = nums2\n",
        "    \n",
        "print(\"Result: \", nums1)"
      ]
    },
    {
      "cell_type": "markdown",
      "id": "0d48c5af-ff85-4f9d-9660-36c0ebbe4110",
      "metadata": {
        "id": "0d48c5af-ff85-4f9d-9660-36c0ebbe4110"
      },
      "source": [
        "**>> Squares of a Sorted Array**<br>\n",
        "Given an integer array nums sorted in non-decreasing order, return an array of the squares of each number sorted in non-decreasing order."
      ]
    },
    {
      "cell_type": "code",
      "execution_count": null,
      "id": "c1007abe-345b-48a6-a8a9-36740cff2c9c",
      "metadata": {
        "id": "c1007abe-345b-48a6-a8a9-36740cff2c9c",
        "outputId": "e1599236-6562-4af1-fc4e-dacfd62122a3"
      },
      "outputs": [
        {
          "name": "stdout",
          "output_type": "stream",
          "text": [
            "Squared and Sorted Result:  [0, 1, 4, 9, 16, 25, 81]\n"
          ]
        }
      ],
      "source": [
        "#nums = [-10000,-9999,-7,-5,0,0,10000]\n",
        "nums = [-5,-4,-1,0,2,3,9]\n",
        "\n",
        "\n",
        "length = len(nums)\n",
        "result_list = [0] * length\n",
        "m, n = 0, length-1\n",
        "insert_counter = length-1\n",
        "\n",
        "while m <= n:\n",
        "    sq1 = nums[m]**2\n",
        "    sq2 = nums[n]**2\n",
        "    \n",
        "    if sq1 > sq2:\n",
        "        result_list[insert_counter] = sq1\n",
        "        m += 1\n",
        "    else:\n",
        "        result_list[insert_counter] = sq2\n",
        "        n -= 1\n",
        "        \n",
        "    insert_counter -= 1\n",
        "\n",
        "print(\"Squared and Sorted Result: \", result_list)"
      ]
    },
    {
      "cell_type": "markdown",
      "id": "a52828f1-c30c-4a3d-a581-5c095650e061",
      "metadata": {
        "id": "a52828f1-c30c-4a3d-a581-5c095650e061"
      },
      "source": [
        "### 4. `Find Intersection of Two Arrays`\n",
        "\n",
        "Hash Tables (if not already sorted) and Two Pointer Algorithm (if the arrays are already sorted)"
      ]
    },
    {
      "cell_type": "code",
      "execution_count": null,
      "id": "9ef9d4bb-30fc-4b5c-9255-e3a2e64a23bd",
      "metadata": {
        "id": "9ef9d4bb-30fc-4b5c-9255-e3a2e64a23bd",
        "outputId": "a4815d27-ce42-4400-d27f-152c831dde4c"
      },
      "outputs": [
        {
          "name": "stdout",
          "output_type": "stream",
          "text": [
            "Result:  [2, 2]\n"
          ]
        }
      ],
      "source": [
        "### If the arrays are not already sorted (Using Hash Tables/Dictionaries). This method is more efficient if one of \n",
        "### the arrays is much smaller compared to the other. The smaller one can be used to create the hash table.\n",
        "\n",
        "nums1, nums2 = [1,2,2,1], [2,2]\n",
        "#nums1, nums2 = [4,9,5], [9,4,9,8,4]\n",
        "\n",
        "helper_dict = {}\n",
        "\n",
        "for i in nums1:\n",
        "    if helper_dict.get(i) is not None:\n",
        "        helper_dict[i] += 1\n",
        "    else:\n",
        "        helper_dict[i] = 1\n",
        "\n",
        "result_list = []\n",
        "for j in nums2:\n",
        "    if helper_dict.get(j) is not None:\n",
        "        if helper_dict.get(j) >= 1:\n",
        "            result_list.append(j)\n",
        "            helper_dict[j] -= 1\n",
        "\n",
        "print(\"Result: \", result_list)"
      ]
    },
    {
      "cell_type": "code",
      "execution_count": null,
      "id": "ab789a09-56d2-41e8-aae8-4062b9b3ed04",
      "metadata": {
        "id": "ab789a09-56d2-41e8-aae8-4062b9b3ed04",
        "outputId": "614d4f70-e0a1-43d8-826a-ffc582861985"
      },
      "outputs": [
        {
          "name": "stdout",
          "output_type": "stream",
          "text": [
            "[2, 2]\n"
          ]
        }
      ],
      "source": [
        "### If the arrays are already sorted (Using Two Pointer Algorithm). This is more efficient if the two arrays are pre-sorted\n",
        "\n",
        "nums1, nums2 = [1,1,2,2], [2,2]\n",
        "#nums1, nums2 = [4,5,9], [4,4,8,9,9]\n",
        "\n",
        "m, n = len(nums1), len(nums2)\n",
        "result_list = []\n",
        "i, j = 0, 0\n",
        "\n",
        "while i < m and j < n:\n",
        "    if nums1[i] < nums2[j]:\n",
        "        i += 1\n",
        "    \n",
        "    if nums1[i] > nums2[j]:\n",
        "        j += 1\n",
        "    \n",
        "    if nums1[i] == nums2[j]:\n",
        "        result_list.append(nums1[i])\n",
        "        i += 1\n",
        "        j += 1\n",
        "        \n",
        "print(result_list)"
      ]
    },
    {
      "cell_type": "markdown",
      "id": "c2f12bbb-8e69-4376-86f8-b9eff55c8313",
      "metadata": {
        "id": "c2f12bbb-8e69-4376-86f8-b9eff55c8313"
      },
      "source": [
        "### 5. `Binary Search`"
      ]
    },
    {
      "cell_type": "markdown",
      "id": "2b305df5-b92a-4289-9d44-d3f19674bcb3",
      "metadata": {
        "id": "2b305df5-b92a-4289-9d44-d3f19674bcb3"
      },
      "source": [
        "**>> Binary Search on a Sorted Array**\n",
        "\n",
        "Recursive and Iterative Approach"
      ]
    },
    {
      "cell_type": "code",
      "execution_count": null,
      "id": "dcba33c7-bb34-4d01-a43f-a05711a840c4",
      "metadata": {
        "id": "dcba33c7-bb34-4d01-a43f-a05711a840c4",
        "outputId": "08706c5a-c1d6-45be-9eae-efa152d0e8c3"
      },
      "outputs": [
        {
          "name": "stdout",
          "output_type": "stream",
          "text": [
            "Result Index:  4\n"
          ]
        }
      ],
      "source": [
        "### Recurvise Approach\n",
        "\n",
        "nums = [-1,0,1,3,5,9,12]\n",
        "target = 5\n",
        "\n",
        "def binary_search(n, target, start_idx = 0):\n",
        "    pivot_point = int(len(n)/2)\n",
        "    \n",
        "    if n[pivot_point] == target:\n",
        "        return start_idx + pivot_point\n",
        "    elif len(n) == 1:\n",
        "        return -1\n",
        "    \n",
        "    if n[pivot_point] > target:\n",
        "        result = binary_search(\n",
        "            n[0:pivot_point],\n",
        "            target,\n",
        "            start_idx = start_idx\n",
        "        )\n",
        "    else:\n",
        "        result = binary_search(\n",
        "            n[pivot_point:len(n)],\n",
        "            target,\n",
        "            start_idx = start_idx + pivot_point\n",
        "        )\n",
        "        \n",
        "    return result\n",
        "        \n",
        "print(\"Result Index: \", binary_search(nums, target))"
      ]
    },
    {
      "cell_type": "code",
      "execution_count": null,
      "id": "e1a370cd-c4f8-4db5-b7d6-c74ce7e94c20",
      "metadata": {
        "id": "e1a370cd-c4f8-4db5-b7d6-c74ce7e94c20",
        "outputId": "61d9fa6b-578e-4ad6-bf27-cdb952c8c7ef"
      },
      "outputs": [
        {
          "name": "stdout",
          "output_type": "stream",
          "text": [
            "Result Index:  4\n"
          ]
        }
      ],
      "source": [
        "### Iterative Approach\n",
        "\n",
        "nums = [-1,0,1,3,5,9,12]\n",
        "target = 5\n",
        "\n",
        "def binary_search(nums, target):\n",
        "    start_idx = 0\n",
        "    \n",
        "    while len(nums) > 0: \n",
        "        len_arr = len(nums)\n",
        "        pivot_point = int(len_arr/2)\n",
        "\n",
        "        if nums[pivot_point] == target:\n",
        "            return start_idx+pivot_point\n",
        "        elif len(nums) == 1:\n",
        "            return -1\n",
        "\n",
        "        if nums[pivot_point] > target:\n",
        "            nums = nums[0:pivot_point]\n",
        "            start_idx = start_idx\n",
        "        else:\n",
        "            nums = nums[pivot_point:len_arr]\n",
        "            start_idx = start_idx + pivot_point\n",
        "            \n",
        "print(\"Result Index: \", binary_search(nums, target))"
      ]
    },
    {
      "cell_type": "markdown",
      "id": "35f7b97b-7f1d-480b-9e88-3b8475019ea2",
      "metadata": {
        "id": "35f7b97b-7f1d-480b-9e88-3b8475019ea2"
      },
      "source": [
        "**>> Find the First Occurence of a Bad Version**"
      ]
    },
    {
      "cell_type": "code",
      "execution_count": null,
      "id": "8331010a-dee0-4352-93d5-65dca26e13a0",
      "metadata": {
        "id": "8331010a-dee0-4352-93d5-65dca26e13a0",
        "outputId": "406f8f42-ed2c-4c5b-daae-4c61252a8c33"
      },
      "outputs": [
        {
          "name": "stdout",
          "output_type": "stream",
          "text": [
            "First Bad Version is at Index: 1\n"
          ]
        }
      ],
      "source": [
        "IS_BAD_VERSION = [False, True, True, True, True]\n",
        "#IS_BAD_VERSION = [False]\n",
        "n = len(IS_BAD_VERSION)\n",
        "\n",
        "def find_first_bad_version(n):\n",
        "    start_idx = 0\n",
        "    end_idx = n - 1\n",
        "    \n",
        "    while True: \n",
        "        len_arr = (end_idx-start_idx)\n",
        "        pivot_point = int(len_arr/2)\n",
        "        \n",
        "        if pivot_point == 0:\n",
        "            if IS_BAD_VERSION[start_idx]:\n",
        "                return start_idx\n",
        "            elif n != 1: \n",
        "                if IS_BAD_VERSION[start_idx+1]:\n",
        "                    return start_idx + 1\n",
        "                else:\n",
        "                    return -1\n",
        "            else:\n",
        "                return -1\n",
        "            \n",
        "        check_before_pivot_point = start_idx + pivot_point - 1\n",
        "\n",
        "        if IS_BAD_VERSION[check_before_pivot_point]:\n",
        "            start_idx = start_idx\n",
        "            end_idx = check_before_pivot_point\n",
        "        elif IS_BAD_VERSION[start_idx+pivot_point]:\n",
        "            return start_idx+pivot_point\n",
        "        else:\n",
        "            start_idx = start_idx+pivot_point\n",
        "            end_idx = end_idx\n",
        "        \n",
        "            \n",
        "print(\"First Bad Version is at Index:\", find_first_bad_version(n))"
      ]
    },
    {
      "cell_type": "markdown",
      "id": "82ec92ca-7635-48c4-8bb2-186e8551aa0b",
      "metadata": {
        "id": "82ec92ca-7635-48c4-8bb2-186e8551aa0b"
      },
      "source": [
        "**>> Find Insertion Point for a Value in an Existing Pre-Sorted Array**"
      ]
    },
    {
      "cell_type": "code",
      "execution_count": null,
      "id": "179d0583-f8d8-4e10-a7e3-7042ce2ecf4e",
      "metadata": {
        "id": "179d0583-f8d8-4e10-a7e3-7042ce2ecf4e",
        "outputId": "77ff236e-1dfe-4426-daf8-69ed38d0504d"
      },
      "outputs": [
        {
          "name": "stdout",
          "output_type": "stream",
          "text": [
            "List: [1, 3]  Target: 3\n",
            "Result Index: 1\n"
          ]
        }
      ],
      "source": [
        "#nums, target = [1,3,5,6], 2\n",
        "#nums, target = [1,3], 2\n",
        "nums, target = [1,3], 3\n",
        "\n",
        "def searchInsert(nums, target):\n",
        "    start_idx = 0\n",
        "    end_idx = len(nums)\n",
        "    \n",
        "    while True:\n",
        "        pivot = int((end_idx - start_idx)/2)\n",
        "        \n",
        "        check_before_pivot_point = start_idx + pivot - 1\n",
        "        if check_before_pivot_point < 0:\n",
        "            check_before_pivot_point = 0\n",
        "\n",
        "        if nums[check_before_pivot_point] >= target:\n",
        "            start_idx = start_idx\n",
        "            end_idx = check_before_pivot_point\n",
        "            if pivot == 0:\n",
        "                return start_idx + pivot\n",
        "            \n",
        "        elif nums[start_idx + pivot] < target:\n",
        "            start_idx += pivot\n",
        "            end_idx = end_idx\n",
        "            if pivot == 0:\n",
        "                return start_idx + pivot + 1\n",
        "        \n",
        "        else: \n",
        "            return start_idx + pivot\n",
        "                \n",
        "print(\"List:\", nums, \" Target:\", target)\n",
        "print(\"Result Index:\", searchInsert(nums, target))"
      ]
    },
    {
      "cell_type": "markdown",
      "id": "6ce969f3-60a2-427d-89f2-34b977f37ed3",
      "metadata": {
        "id": "6ce969f3-60a2-427d-89f2-34b977f37ed3"
      },
      "source": [
        "### 6. `(m x n) Matrix Reshaping`"
      ]
    },
    {
      "cell_type": "code",
      "execution_count": null,
      "id": "41709b3f-f78a-41ab-8ce8-59200f0ff19e",
      "metadata": {
        "id": "41709b3f-f78a-41ab-8ce8-59200f0ff19e",
        "outputId": "a30717d5-3bcf-4481-f88a-3e20d5c87e9b"
      },
      "outputs": [
        {
          "name": "stdout",
          "output_type": "stream",
          "text": [
            "Before:  [[1, 2, 3, 4]]\n",
            "After:  [[1, 2], [3, 4]]\n"
          ]
        }
      ],
      "source": [
        "mat = [[1,2,3,4]]; r = 2; c = 2\n",
        "\n",
        "\n",
        "def matrixReshape(mat, r, c):\n",
        "    m = len(mat)\n",
        "    n = len(mat[0])\n",
        "\n",
        "    if r*c != m*n:\n",
        "        return \"Not Possible\"\n",
        "    \n",
        "    if r == m and c == n:\n",
        "        return mat\n",
        "    \n",
        "    result_arr = []\n",
        "    c_counter = 1\n",
        "    intermediate_arr = []\n",
        "    for i in mat:\n",
        "        for j in i:\n",
        "            if c_counter <= c:\n",
        "                intermediate_arr.append(j)\n",
        "                c_counter += 1\n",
        "\n",
        "            if c_counter == c+1:\n",
        "                result_arr.append(intermediate_arr)\n",
        "                intermediate_arr = []\n",
        "                c_counter = 1   \n",
        "                    \n",
        "    return result_arr\n",
        "    \n",
        "\n",
        "print(\"Before: \", mat)\n",
        "print(\"After: \", matrixReshape(mat, r, c))"
      ]
    },
    {
      "cell_type": "markdown",
      "id": "fa1e2b18-b7b3-411f-9299-98679e95a562",
      "metadata": {
        "id": "fa1e2b18-b7b3-411f-9299-98679e95a562"
      },
      "source": [
        "### 7. `Generate Pascal's Triangle for a Given Number of Rows`"
      ]
    },
    {
      "cell_type": "code",
      "execution_count": null,
      "id": "5b11366b-639a-485a-86e0-9fca2b97d0e3",
      "metadata": {
        "id": "5b11366b-639a-485a-86e0-9fca2b97d0e3",
        "outputId": "31ad52d8-c0e5-40ea-887b-87c2ee806f1e"
      },
      "outputs": [
        {
          "name": "stdout",
          "output_type": "stream",
          "text": [
            "N: 5  Result: [[1], [1, 1], [1, 2, 1], [1, 3, 3, 1], [1, 4, 6, 4, 1]]\n"
          ]
        }
      ],
      "source": [
        "n = 5\n",
        "\n",
        "result_list = []\n",
        "\n",
        "for i in range(n):\n",
        "    if i == 0:\n",
        "        result_list.append([1])\n",
        "        continue \n",
        "        \n",
        "    prev_list = result_list[i-1]\n",
        "    \n",
        "    intermediate_list = [1]\n",
        "    for idx in range(len(prev_list)-1):\n",
        "        intermediate_list.append(prev_list[idx] + prev_list[idx+1])\n",
        "    \n",
        "    intermediate_list.append(1)\n",
        "    \n",
        "    result_list.append(intermediate_list)\n",
        "    \n",
        "\n",
        "print(\"N:\", n, \" Result:\", result_list)"
      ]
    },
    {
      "cell_type": "markdown",
      "id": "89133538-929e-445e-84de-59322fbd61a1",
      "metadata": {
        "id": "89133538-929e-445e-84de-59322fbd61a1"
      },
      "source": [
        "### 8. `Circular Array Rotation`"
      ]
    },
    {
      "cell_type": "code",
      "execution_count": null,
      "id": "6f3eefc7-ac46-4483-bd39-965369b71632",
      "metadata": {
        "id": "6f3eefc7-ac46-4483-bd39-965369b71632",
        "outputId": "17953f2d-6dd7-492d-8913-6889e3a37d17"
      },
      "outputs": [
        {
          "name": "stdout",
          "output_type": "stream",
          "text": [
            "Result:  [6, 7, 1, 2, 3, 4, 5]\n"
          ]
        }
      ],
      "source": [
        "#nums = [1,2,3,4,5,6,7]; k = 3\n",
        "nums = [1,2,3,4,5,6,7]; k = 9\n",
        "\n",
        "n = len(nums)\n",
        "result_list = [0]*n\n",
        "\n",
        "idx_list = list(range(0, n))\n",
        "for i in idx_list:\n",
        "    result_list[(i+k)%n] = nums[i]\n",
        "\n",
        "print(\"Result: \", result_list)"
      ]
    },
    {
      "cell_type": "markdown",
      "id": "90fe2339-ac04-4c69-934e-c64550d81fdc",
      "metadata": {
        "id": "90fe2339-ac04-4c69-934e-c64550d81fdc"
      },
      "source": [
        "### 10. `Reversing a String`"
      ]
    },
    {
      "cell_type": "code",
      "execution_count": null,
      "id": "18e537c4-ae6f-4876-9606-7fe60f9ad38d",
      "metadata": {
        "id": "18e537c4-ae6f-4876-9606-7fe60f9ad38d",
        "outputId": "464af56b-a237-4a5d-d98c-87450dc928c4"
      },
      "outputs": [
        {
          "name": "stdout",
          "output_type": "stream",
          "text": [
            "Reversed String:  ['h', 'a', 'n', 'n', 'a', 'H']\n"
          ]
        }
      ],
      "source": [
        "##### Without using Two Pointer Approach #####\n",
        "\n",
        "#s = [\"h\",\"e\",\"l\",\"l\",\"o\"]\n",
        "s = [\"H\",\"a\",\"n\",\"n\",\"a\",\"h\"]\n",
        "\n",
        "idx = len(s)-1\n",
        "while idx >= 0:\n",
        "    s.append(s[idx])\n",
        "    del s[idx]\n",
        "    idx -= 1\n",
        "    \n",
        "print(\"Reversed String: \", s)"
      ]
    },
    {
      "cell_type": "code",
      "execution_count": null,
      "id": "b9d281c0-c2a6-4859-a82d-7ddad502e7f8",
      "metadata": {
        "id": "b9d281c0-c2a6-4859-a82d-7ddad502e7f8",
        "outputId": "9fc944cf-e5db-41b0-8726-7d73e6dd1ae8"
      },
      "outputs": [
        {
          "name": "stdout",
          "output_type": "stream",
          "text": [
            "Reversed String:  ['h', 'a', 'n', 'n', 'a', 'H']\n"
          ]
        }
      ],
      "source": [
        "##### Using The Two Pointer Approach -> More Efficient Solution #####\n",
        "\n",
        "#s = [\"h\",\"e\",\"l\",\"l\",\"o\"]\n",
        "s = [\"H\",\"a\",\"n\",\"n\",\"a\",\"h\"]\n",
        "\n",
        "i = 0; j = len(s)-1\n",
        "while j >= i:\n",
        "    temp = s[j]\n",
        "    s[j] = s[i]\n",
        "    s[i] = temp\n",
        "    i += 1\n",
        "    j -= 1\n",
        "\n",
        "print(\"Reversed String: \", s)"
      ]
    },
    {
      "cell_type": "markdown",
      "id": "aeaf07e0-c172-43af-8802-eced8306ba08",
      "metadata": {
        "id": "aeaf07e0-c172-43af-8802-eced8306ba08"
      },
      "source": [
        "### 11. `Reversing the Words in a String`\n",
        "\n",
        "Note: Maintain the original order of the words i.e. the position of the words should not be reversed"
      ]
    },
    {
      "cell_type": "code",
      "execution_count": null,
      "id": "752031a1-0e33-45f4-be64-5b8d8770003c",
      "metadata": {
        "id": "752031a1-0e33-45f4-be64-5b8d8770003c",
        "outputId": "4b9308a2-60e2-4d13-826a-71a7f9cd8946"
      },
      "outputs": [
        {
          "name": "stdout",
          "output_type": "stream",
          "text": [
            "tsetnoc edoCteeL a ekat s'teL\n",
            "['tsetnoc', 'edoCteeL', 'a', 'ekat', \"s'teL\"]\n",
            "\n",
            "\n",
            " Final Reversed Output:  s'teL ekat a edoCteeL tsetnoc\n"
          ]
        }
      ],
      "source": [
        "def reverseWords(s: str) -> str:\n",
        "    len_s = len(s)\n",
        "    \n",
        "    ### swap the entire string including the word positions\n",
        "    i = 0; j = len_s-1\n",
        "    new_s = ''\n",
        "    while j >= i:\n",
        "        if len_s%2 != 0 and j == i:\n",
        "            i_str = ''\n",
        "        else:\n",
        "            i_str = s[i]\n",
        "\n",
        "        new_s = new_s[0:i] + s[j] + i_str  + new_s[i:len(new_s)]  \n",
        "        i += 1\n",
        "        j -= 1\n",
        "        \n",
        "    print(new_s)\n",
        "\n",
        "\n",
        "    ### split on spaces and create list of words\n",
        "    list_of_str = []\n",
        "    temp_str = ''\n",
        "    for i in new_s:\n",
        "        if i != ' ':\n",
        "            temp_str += i\n",
        "        else:\n",
        "            list_of_str.append(temp_str)\n",
        "            temp_str = ''       \n",
        "    list_of_str.append(temp_str)\n",
        "    print(list_of_str)\n",
        "    \n",
        "\n",
        "    ### reverse the words again to get them back in their original positions\n",
        "    i = 0; j = len(list_of_str)-1\n",
        "    while j >= i:\n",
        "        temp = list_of_str[j]\n",
        "        list_of_str[j] = list_of_str[i]\n",
        "        list_of_str[i] = temp\n",
        "        i += 1\n",
        "        j -= 1\n",
        "\n",
        "    result_str = ''\n",
        "    for i in list_of_str:\n",
        "        result_str += i + ' '\n",
        "\n",
        "    return result_str[0:len(result_str)-1]\n",
        "\n",
        "\n",
        "########################################\n",
        "\n",
        "inp = \"Let's take a LeetCode contest\"\n",
        "print(\"\\n\\n Final Reversed Output: \", reverseWords(inp))"
      ]
    },
    {
      "cell_type": "markdown",
      "id": "d99afe23-19ad-4b5e-a172-895204e7c271",
      "metadata": {
        "id": "d99afe23-19ad-4b5e-a172-895204e7c271"
      },
      "source": [
        "### 12. `Check if a Sudoku is Valid` (Using Hash Maps)\n",
        "\n",
        "Note: Not checking if it is solvavle, only if it is valid i.e. 1-9 numbers and single occurence of the numbers in the rows, columns and 3x3 boxes"
      ]
    },
    {
      "cell_type": "code",
      "execution_count": null,
      "id": "876d295e-6fb5-4a17-adc9-4c08f5698825",
      "metadata": {
        "id": "876d295e-6fb5-4a17-adc9-4c08f5698825",
        "outputId": "878073d8-c5fe-4a9e-d1f6-d3113a94a178"
      },
      "outputs": [
        {
          "name": "stdout",
          "output_type": "stream",
          "text": [
            "Validity Result:  False\n",
            "Validity Result:  True\n"
          ]
        }
      ],
      "source": [
        "def isValidSudoku(inp):\n",
        "    helper_dict_r = {}\n",
        "    helper_dict_c = {0:{}, 1:{}, 2:{}, 3:{}, 4:{}, 5:{}, 6:{}, 7:{}, 8:{}}\n",
        "    helper_dict_3 = {0:{}, 1:{}, 2:{}}\n",
        "\n",
        "    for idx_i, i in enumerate(inp):\n",
        "        for idx_j, j in enumerate(i):\n",
        "            \n",
        "            if j != '.':\n",
        "                ### check rows - resets after every row\n",
        "                if helper_dict_r.get(j) is None:\n",
        "                    helper_dict_r[j] = True\n",
        "                else:\n",
        "                    return False\n",
        "                    \n",
        "                ### check columns\n",
        "                if helper_dict_c[idx_j].get(j) is None:\n",
        "                    helper_dict_c[idx_j][j] = True \n",
        "                else:\n",
        "                    return False\n",
        "                \n",
        "                ### check 3x3 boxes - use rounding division to get key for dictionary - resets after every third row \n",
        "                if helper_dict_3[idx_j//3].get(j) is None:\n",
        "                    helper_dict_3[idx_j//3][j] = True\n",
        "                else:\n",
        "                    return False\n",
        "          \n",
        "        ### reset row dictionary after every row\n",
        "        helper_dict_r = {}\n",
        "        \n",
        "        ### reset the 3x3 dictionary for every 3 sets of rows\n",
        "        if (idx_i+1) % 3 == 0:\n",
        "            helper_dict_3 = {0:{}, 1:{}, 2:{}}\n",
        "          \n",
        "    return True\n",
        "   \n",
        "####################################\n",
        "\n",
        "inp = \\\n",
        "[[\"8\",\"3\",\".\",\".\",\"7\",\".\",\".\",\".\",\".\"]\n",
        ",[\"6\",\".\",\".\",\"1\",\"9\",\"5\",\".\",\".\",\".\"]\n",
        ",[\".\",\"9\",\"8\",\".\",\".\",\".\",\".\",\"6\",\".\"]\n",
        ",[\"5\",\".\",\".\",\".\",\"6\",\".\",\".\",\".\",\"3\"]\n",
        ",[\"4\",\".\",\".\",\"8\",\".\",\"3\",\".\",\".\",\"1\"]\n",
        ",[\"7\",\".\",\".\",\".\",\"2\",\".\",\".\",\".\",\"6\"]\n",
        ",[\".\",\"6\",\".\",\".\",\".\",\".\",\"2\",\"8\",\".\"]\n",
        ",[\".\",\".\",\".\",\"4\",\"1\",\"9\",\".\",\".\",\"5\"]\n",
        ",[\".\",\".\",\".\",\".\",\"8\",\".\",\".\",\"7\",\"9\"]]   \n",
        "print(\"Validity Result: \", isValidSudoku(inp))\n",
        "\n",
        "\n",
        "inp = \\\n",
        "[[\"5\",\"3\",\".\",\".\",\"7\",\".\",\".\",\".\",\".\"]\n",
        ",[\"6\",\".\",\".\",\"1\",\"9\",\"5\",\".\",\".\",\".\"]\n",
        ",[\".\",\"9\",\"8\",\".\",\".\",\".\",\".\",\"6\",\".\"]\n",
        ",[\"8\",\".\",\".\",\".\",\"6\",\".\",\".\",\".\",\"3\"]\n",
        ",[\"4\",\".\",\".\",\"8\",\".\",\"3\",\".\",\".\",\"1\"]\n",
        ",[\"7\",\".\",\".\",\".\",\"2\",\".\",\".\",\".\",\"6\"]\n",
        ",[\".\",\"6\",\".\",\".\",\".\",\".\",\"2\",\"8\",\".\"]\n",
        ",[\".\",\".\",\".\",\"4\",\"1\",\"9\",\".\",\".\",\"5\"]\n",
        ",[\".\",\".\",\".\",\".\",\"8\",\".\",\".\",\"7\",\"9\"]] \n",
        "print(\"Validity Result: \", isValidSudoku(inp))"
      ]
    },
    {
      "cell_type": "markdown",
      "source": [
        "### 13. `Binary Search in a 2-D Array`\n",
        "\n",
        "Time Complexity: `O(log(m*n))`"
      ],
      "metadata": {
        "id": "69ce6eac-7c6e-46f9-a41e-665c2228f221"
      },
      "id": "69ce6eac-7c6e-46f9-a41e-665c2228f221"
    },
    {
      "cell_type": "code",
      "source": [
        "def searchMatrix(matrix, target: int):\n",
        "  m = len(matrix); n = len(matrix[0])\n",
        "  start_m = 0; end_m = m\n",
        "  start_n = 0; end_n = n\n",
        "\n",
        "  ### if start_m = end_m and we still have not found the target, it means the target does not exist, return False\n",
        "  while start_m < end_m:\n",
        "    outer_arr_pivot = ((start_m + end_m)//2)\n",
        "    inner_arr_pivot = ((start_n + end_n)//2)\n",
        "\n",
        "    inner_arr_mid_point = matrix[outer_arr_pivot][inner_arr_pivot]\n",
        "    arr_start = matrix[outer_arr_pivot][0]\n",
        "    arr_end = matrix[outer_arr_pivot][n-1]\n",
        "\n",
        "    ### check if the first element of the outer array pivot is greater than the target, target is on the left\n",
        "    if arr_start > target:\n",
        "      end_m = outer_arr_pivot\n",
        "\n",
        "    ### check if the last element of the outer array pivot is greater than the target, target is on the right\n",
        "    elif arr_end < target:\n",
        "      start_m = outer_arr_pivot + 1\n",
        "    \n",
        "    ### if target is in between first and last element, we found the correct element of the outer array, \n",
        "    ### now we need to binary search inside the inner element\n",
        "    else:\n",
        "      if start_n + 1 == end_n and inner_arr_mid_point != target:\n",
        "        return False\n",
        "\n",
        "      if inner_arr_mid_point < target:\n",
        "        start_n = inner_arr_pivot\n",
        "      elif inner_arr_mid_point > target:\n",
        "        end_n = inner_arr_pivot\n",
        "      else:\n",
        "        return True\n",
        "\n",
        "  return False\n",
        "\n",
        "\n",
        "matrix = [[1,3,5,7],[10,11,16,20],[23,30,34,60]]; target = 3\n",
        "print(\"Target Exists?\", searchMatrix(matrix = matrix, target = target))\n",
        "\n",
        "matrix = [[1,3,5,7],[10,11,16,20],[23,30,34,60]]; target = 12\n",
        "print(\"Target Exists?\", searchMatrix(matrix = matrix, target = target))\n",
        "\n",
        "matrix = [[1,1], [3,3], [4,4], [5,5]]; target = 2\n",
        "print(\"Target Exists?\", searchMatrix(matrix = matrix, target = target))"
      ],
      "metadata": {
        "colab": {
          "base_uri": "https://localhost:8080/"
        },
        "id": "pa2XJebFbBQh",
        "outputId": "fbb2a2db-32e2-416c-b1c1-dc9d66f2c810"
      },
      "id": "pa2XJebFbBQh",
      "execution_count": 1,
      "outputs": [
        {
          "output_type": "stream",
          "name": "stdout",
          "text": [
            "Target Exists? True\n",
            "Target Exists? False\n",
            "Target Exists? False\n"
          ]
        }
      ]
    }
  ],
  "metadata": {
    "kernelspec": {
      "display_name": "Python 3 (ipykernel)",
      "language": "python",
      "name": "python3"
    },
    "language_info": {
      "codemirror_mode": {
        "name": "ipython",
        "version": 3
      },
      "file_extension": ".py",
      "mimetype": "text/x-python",
      "name": "python",
      "nbconvert_exporter": "python",
      "pygments_lexer": "ipython3",
      "version": "3.9.12"
    },
    "colab": {
      "provenance": []
    }
  },
  "nbformat": 4,
  "nbformat_minor": 5
}