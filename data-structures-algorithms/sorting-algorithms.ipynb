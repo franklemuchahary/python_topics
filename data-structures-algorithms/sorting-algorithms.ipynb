{
 "cells": [
  {
   "cell_type": "code",
   "execution_count": 5,
   "id": "8570ccdb-8a90-487f-a6bc-d7929241e316",
   "metadata": {},
   "outputs": [],
   "source": [
    "import math\n",
    "import random\n",
    "import sys\n",
    "import numpy as np\n",
    "from bigO import BigO\n",
    "\n",
    "sys.setrecursionlimit(100000)"
   ]
  },
  {
   "cell_type": "markdown",
   "id": "ff73c1ae-264b-4526-9654-bf3a0e1318f5",
   "metadata": {},
   "source": [
    "# Insertion Sort\n",
    "https://en.wikipedia.org/wiki/Insertion_sort\n",
    "<img src=\"https://media.geeksforgeeks.org/wp-content/uploads/insertionsort.png\">"
   ]
  },
  {
   "cell_type": "code",
   "execution_count": 18,
   "id": "88768f37-14e1-4693-904a-fec8ede31023",
   "metadata": {},
   "outputs": [
    {
     "data": {
      "text/plain": [
       "[1, 1, 2, 2, 3]"
      ]
     },
     "execution_count": 18,
     "metadata": {},
     "output_type": "execute_result"
    }
   ],
   "source": [
    "def insertionSort2(arr:list):\n",
    "    '''\n",
    "    sorting algo - insertion sort\n",
    "    \n",
    "    inputs: \n",
    "        - arr: list of numerical elements that is supposed to be sorted\n",
    "        \n",
    "    returns:\n",
    "        - arr: sorted list\n",
    "        - total_shifts: number of shift operations performed\n",
    "    '''\n",
    "    n = len(arr)\n",
    "   \n",
    "    total_shifts = []\n",
    "    for i in range(1, n):\n",
    "        ### get number to be sorted\n",
    "        num = arr[i]\n",
    "        for j in range(0, i):\n",
    "            ### check if the current number(one index ahead) is smaller than the number at the present index\n",
    "            if arr[j] > num:\n",
    "                ### if check is true then insert the smaller number from at the present index\n",
    "                arr.insert(j, num)\n",
    "                ## delete inserted number from the original index\n",
    "                del arr[i+1]\n",
    "                total_shifts.append(i - j)\n",
    "                break\n",
    "        #print(*arr, end=\"\\n\\n\")\n",
    "    #print(sum(total_shifts))\n",
    "    return arr\n",
    "    \n",
    "arr = [2, 1, 3, 1, 2]\n",
    "insertionSort2(arr)"
   ]
  },
  {
   "cell_type": "code",
   "execution_count": 19,
   "id": "bc21f436-12ae-4881-8c06-7d4fa5ec5807",
   "metadata": {},
   "outputs": [
    {
     "name": "stdout",
     "output_type": "stream",
     "text": [
      "Running insertionSort2(random array)...\n",
      "Completed insertionSort2(random array): O(n^2)\n",
      "Running insertionSort2(sorted array)...\n",
      "Completed insertionSort2(sorted array): O(n^2)\n",
      "Running insertionSort2(reversed array)...\n",
      "Completed insertionSort2(reversed array): O(n^2)\n"
     ]
    },
    {
     "data": {
      "text/plain": [
       "'O(n^2)'"
      ]
     },
     "execution_count": 19,
     "metadata": {},
     "output_type": "execute_result"
    }
   ],
   "source": [
    "bigo = BigO()\n",
    "bigo.test(insertionSort2, \"random\")\n",
    "bigo.test(insertionSort2, \"sorted\")\n",
    "bigo.test(insertionSort2, \"reversed\")"
   ]
  },
  {
   "cell_type": "markdown",
   "id": "7a77d109-c502-4f9b-90e9-0108b978135f",
   "metadata": {},
   "source": [
    "# Quick Sort\n",
    "\n",
    "https://en.wikipedia.org/wiki/Quicksort\n",
    "\n",
    "<img src=\"https://www.geeksforgeeks.org/wp-content/uploads/gq/2014/01/QuickSort2.png\">"
   ]
  },
  {
   "cell_type": "code",
   "execution_count": 47,
   "id": "8fbc465b-9392-4a54-88bc-948198ee3a93",
   "metadata": {},
   "outputs": [],
   "source": [
    "def partition_and_sort(arr):\n",
    "    '''\n",
    "    sorting algorithm - quick sort - recursive implemenation\n",
    "    \n",
    "    inputs: \n",
    "        - arr: list of numerical elements\n",
    "    \n",
    "    returns:\n",
    "        - sorted version of original list\n",
    "    '''\n",
    "    ### if length of arr to be sorted is less than or equal to 1 return arr itself\n",
    "    if len(arr) <= 1:\n",
    "        return arr\n",
    "\n",
    "    ### initialize empty arrays for left, right and equal\n",
    "    left, right, equal = [], [], []\n",
    "    \n",
    "    ### taking middle element as pivot point\n",
    "    pivot = arr[int(len(arr)/2)]\n",
    "    \n",
    "    for i in arr:\n",
    "        if i < pivot:\n",
    "            left += [i]\n",
    "        if i > pivot:\n",
    "            right += [i]\n",
    "        if i == pivot:\n",
    "            equal += [i]\n",
    "            \n",
    "    ### recursion calls\n",
    "    return partition_and_sort(left) + equal + partition_and_sort(right)"
   ]
  },
  {
   "cell_type": "code",
   "execution_count": 48,
   "id": "59503348-f097-4628-aebe-3b4a37a0aeaa",
   "metadata": {},
   "outputs": [
    {
     "data": {
      "text/plain": [
       "[1, 2, 3, 4, 4, 5, 5]"
      ]
     },
     "execution_count": 48,
     "metadata": {},
     "output_type": "execute_result"
    }
   ],
   "source": [
    "arr = [4, 9, 5, 3, 7, 2]\n",
    "arr = [1, 2, 3, 4, 4, 5, 5]\n",
    "partition_and_sort(arr)"
   ]
  },
  {
   "cell_type": "code",
   "execution_count": 49,
   "id": "136525cf-dc94-46d5-ac8c-32745fa049ab",
   "metadata": {},
   "outputs": [
    {
     "name": "stdout",
     "output_type": "stream",
     "text": [
      "Running partition_and_sort(random array)...\n",
      "Completed partition_and_sort(random array): O(nlog(n))\n",
      "Running partition_and_sort(sorted array)...\n",
      "Completed partition_and_sort(sorted array): O(nlog(n))\n",
      "Running partition_and_sort(reversed array)...\n",
      "Completed partition_and_sort(reversed array): O(nlog(n))\n"
     ]
    },
    {
     "data": {
      "text/plain": [
       "'O(nlog(n))'"
      ]
     },
     "execution_count": 49,
     "metadata": {},
     "output_type": "execute_result"
    }
   ],
   "source": [
    "bigo = BigO()\n",
    "bigo.test(partition_and_sort, \"random\")\n",
    "bigo.test(partition_and_sort, \"sorted\")\n",
    "bigo.test(partition_and_sort, \"reversed\")"
   ]
  },
  {
   "cell_type": "markdown",
   "id": "4b4c9b9d-9a32-4454-8371-61c72ae3566e",
   "metadata": {},
   "source": [
    "# Counting Sort\n",
    "\n",
    "https://en.wikipedia.org/wiki/Counting_sort\n",
    "\n",
    "<img src=\"https://cdn-images-1.medium.com/max/800/1*WlPrIBf_7Z5vyhJGVWnb5A.gif\">"
   ]
  },
  {
   "cell_type": "code",
   "execution_count": 7,
   "id": "c8540f1f-3bdf-4971-be33-932f0ee5d04f",
   "metadata": {},
   "outputs": [],
   "source": [
    "def counting_sort(arr):\n",
    "    '''\n",
    "    sorting algorithm - counting sort (not a comparison based sorting algorithm)\n",
    "    requires prior information but works in O(n) time complexity\n",
    "    not an in-place sorting algorithm (requires two additional arrays - for storing counts and for storing results)\n",
    "    \n",
    "    Input:\n",
    "        - arr: list to be sorted with numeric elements\n",
    "        \n",
    "    Returns:\n",
    "        - arr: sorted version of original arr list\n",
    "    '''\n",
    "\n",
    "    ### initialize min_element variable, max_element variable and result_arr\n",
    "    max_elem = arr[0]\n",
    "    min_elem = arr[0]\n",
    "    result_arr = []\n",
    "    \n",
    "    ### calculate min and max elements in the array\n",
    "    for item in arr:\n",
    "        result_arr.append(0)\n",
    "        if item > max_elem:\n",
    "            max_elem = item\n",
    "        if item < min_elem:\n",
    "            min_elem = item\n",
    "\n",
    "    ### if min elem is greater than 0, set it to 0\n",
    "    if min_elem > 0:\n",
    "        min_elem = 0\n",
    "\n",
    "    ### initialize the count array with zeros\n",
    "    count_arr = []\n",
    "    for _ in range(min_elem, max_elem+1):\n",
    "        count_arr.append(0)\n",
    "\n",
    "    ### add counts to the count array at the positions where index_of_count_array = elem_in_main_array \n",
    "    for i in arr:\n",
    "        count_arr[-1*(min_elem - i)] += 1\n",
    "\n",
    "    ### convert count array to a cummulative count array\n",
    "    for i in range(1, len(count_arr)):\n",
    "         count_arr[i] += count_arr[i-1]\n",
    "            \n",
    "    ### add values to result_array at correct indexes using the cummulative count array\n",
    "    ### keep deducting the counts by one to handle multiple occurences of the same element\n",
    "    for i in arr:\n",
    "        result_arr[count_arr[-1 * (min_elem - i)]-1] = i\n",
    "        count_arr[-1 * (min_elem - i)] -= 1\n",
    "\n",
    "    return result_arr"
   ]
  },
  {
   "cell_type": "code",
   "execution_count": 8,
   "id": "18ab2f4f-d49a-4705-b4ce-2bf8a595ea1c",
   "metadata": {},
   "outputs": [
    {
     "data": {
      "text/plain": [
       "[-10, -10, -5, 1, 1, 1, 3, 3, 3, 25, 56, 63, 73, 73, 84, 86, 98, 99]"
      ]
     },
     "execution_count": 8,
     "metadata": {},
     "output_type": "execute_result"
    }
   ],
   "source": [
    "arr = [-10,-10,-5,63,25,73,1,98,73,56,84,86,99,1,3,3,3,1]\n",
    "\n",
    "counting_sort(arr)"
   ]
  },
  {
   "cell_type": "code",
   "execution_count": 9,
   "id": "6234528f-45ba-4a12-b8c4-ee55063e32a7",
   "metadata": {},
   "outputs": [
    {
     "name": "stdout",
     "output_type": "stream",
     "text": [
      "Running counting_sort(random array)...\n",
      "Completed counting_sort(random array): O(n)\n",
      "Running counting_sort(sorted array)...\n",
      "Completed counting_sort(sorted array): O(n)\n",
      "Running counting_sort(reversed array)...\n",
      "Completed counting_sort(reversed array): O(n)\n"
     ]
    },
    {
     "data": {
      "text/plain": [
       "'O(n)'"
      ]
     },
     "execution_count": 9,
     "metadata": {},
     "output_type": "execute_result"
    }
   ],
   "source": [
    "bigo = BigO()\n",
    "bigo.test(counting_sort, \"random\")\n",
    "bigo.test(counting_sort, \"sorted\")\n",
    "bigo.test(counting_sort, \"reversed\")"
   ]
  }
 ],
 "metadata": {
  "kernelspec": {
   "display_name": "Python 3 (ipykernel)",
   "language": "python",
   "name": "python3"
  },
  "language_info": {
   "codemirror_mode": {
    "name": "ipython",
    "version": 3
   },
   "file_extension": ".py",
   "mimetype": "text/x-python",
   "name": "python",
   "nbconvert_exporter": "python",
   "pygments_lexer": "ipython3",
   "version": "3.9.12"
  }
 },
 "nbformat": 4,
 "nbformat_minor": 5
}
