{
 "cells": [
  {
   "cell_type": "markdown",
   "id": "6b129522-41c2-4d59-aaeb-e30545c91f73",
   "metadata": {},
   "source": [
    "### 1. `Kadane's Algorithm`"
   ]
  },
  {
   "cell_type": "markdown",
   "id": "4dcbf622-5771-426d-b572-5a6e1faf238f",
   "metadata": {},
   "source": [
    "**Max Sum Subarray:** Finding Sub-Array with Max Sum within a given Array"
   ]
  },
  {
   "cell_type": "code",
   "execution_count": 10,
   "id": "f2708146-c077-451a-bb37-3aed57c30ac7",
   "metadata": {},
   "outputs": [
    {
     "name": "stdout",
     "output_type": "stream",
     "text": [
      "Maximum Subarray Sum:  6\n",
      "Subarray with Max Sum:  [4, -1, 2, 1]\n"
     ]
    }
   ],
   "source": [
    "#nums = [1]\n",
    "#nums = [5,4,-1,7,8]\n",
    "nums = [-2,1,-3,4,-1,2,1,-5,4]\n",
    "\n",
    "s = nums[0]\n",
    "overall_sums = nums[0]\n",
    "#0 index = start index of array, 1 index = end index of array\n",
    "start_end_indexes = [0, 0]\n",
    "\n",
    "for idx, i in enumerate(nums[1:]):\n",
    "    if i < (s + i):\n",
    "        s += i\n",
    "        #this part is needed if we want to get the subarray too. if we just want the sum, this is not needed\n",
    "        if overall_sums < s:\n",
    "            start_end_indexes[1] = idx + 1\n",
    "    else:\n",
    "        s = i\n",
    "        #this part is needed if we want to get the subarray too. if we just want the sum, this is not needed\n",
    "        start_end_indexes[0] = idx + 1\n",
    "        start_end_indexes[1] = idx + 1\n",
    "    \n",
    "    overall_sums = max(overall_sums, s)\n",
    "\n",
    "print(\"Maximum Subarray Sum: \", overall_sums)\n",
    "print(\"Subarray with Max Sum: \", nums[start_end_indexes[0]:start_end_indexes[1]+1])"
   ]
  },
  {
   "cell_type": "markdown",
   "id": "5a82c61e-fedc-47d4-aaeb-5ba4c7a7735b",
   "metadata": {},
   "source": [
    " "
   ]
  },
  {
   "cell_type": "markdown",
   "id": "22ee1648-da0f-4e6e-a0cc-8cb4f83f5868",
   "metadata": {},
   "source": [
    "**Best Time to Buy and Sell Stock** <br>\n",
    "You are given an array prices where prices[i] is the price of a given stock on the ith day.\n",
    "You want to maximize your profit by choosing a single day to buy one stock and choosing a different day in the future to sell that stock."
   ]
  },
  {
   "cell_type": "code",
   "execution_count": 25,
   "id": "47ce1058-8d97-4907-8495-0013d121b775",
   "metadata": {},
   "outputs": [
    {
     "name": "stdout",
     "output_type": "stream",
     "text": [
      "Max Profit: 5\n",
      "Buy & Sell Prices: 1, 4\n"
     ]
    }
   ],
   "source": [
    "prices = [7,1,5,3,6,4]\n",
    "#prices = [7,6,4,3,1]\n",
    "\n",
    "max_profit = 0\n",
    "buy_idx = 0\n",
    "sell_idx = 0\n",
    "\n",
    "for idx, i in enumerate(prices[1:]):\n",
    "    #print(i, prices[buy_idx])\n",
    "    if i < prices[buy_idx]:\n",
    "        buy_idx = idx+1\n",
    "    else:\n",
    "        sell_idx = idx+1\n",
    "        max_profit = max(max_profit, prices[sell_idx]-prices[buy_idx])\n",
    "\n",
    "print(\"Max Profit:\", max_profit)\n",
    "print(\"Buy & Sell Prices: \", prices[buy_idx], \", \", prices[sell_idx], sep=\"\")"
   ]
  },
  {
   "cell_type": "markdown",
   "id": "fb13bdcd-05c0-4b2e-9713-71f35eb0d691",
   "metadata": {},
   "source": [
    "### 2. `Two Sum Problem:` Given an array of integers nums and an integer target, return indices of the two numbers such that they add up to target"
   ]
  },
  {
   "cell_type": "code",
   "execution_count": 9,
   "id": "94e50fae-ceba-4ef2-9c98-5ce73d0ddba7",
   "metadata": {},
   "outputs": [
    {
     "name": "stdout",
     "output_type": "stream",
     "text": [
      "Solution:  [0, 1]\n"
     ]
    }
   ],
   "source": [
    "nums, target = [2,7,11,15], 9\n",
    "#nums, target = [3,3], 6\n",
    "\n",
    "helper_dict = {} #hash table equivalent\n",
    "\n",
    "for idx, i in enumerate(nums):\n",
    "    target_minus_num = target - i\n",
    "    #print(i, target_minus_num, helper_dict, end=\"\\n\\n\")\n",
    "\n",
    "    if helper_dict.get(target_minus_num) is not None:\n",
    "         print(\"Solution: \", [helper_dict[target_minus_num], idx])\n",
    "\n",
    "    helper_dict[i] = idx"
   ]
  },
  {
   "cell_type": "markdown",
   "id": "536a908b-4327-4b58-a1a0-dca62cf985ce",
   "metadata": {},
   "source": [
    "### 3. `Merge Two Sorted Arrays (Two Pointer Algorithm)` \n",
    "You are given two integer arrays nums1 and nums2, sorted in non-decreasing order, and two integers m and n, representing the number of elements in nums1 and nums2 respectively.\n",
    "\n",
    "Merge nums1 and nums2 into a single array sorted in non-decreasing order. `nums1` has a length of `m + n`, where the first m elements denote the elements that should be merged, and the last n elements are set to 0 and should be ignored. `nums2` has a length of n.\n",
    "\n"
   ]
  },
  {
   "cell_type": "code",
   "execution_count": 15,
   "id": "53327c28-37a3-4297-a8df-0795040a1e99",
   "metadata": {},
   "outputs": [
    {
     "name": "stdout",
     "output_type": "stream",
     "text": [
      "Result:  [-2, 1, 2, 5, 6, 8]\n"
     ]
    }
   ],
   "source": [
    "nums1, m = [1,2,8,0,0,0], 3\n",
    "nums2, n = [-2,5,6], 3\n",
    "\n",
    "\n",
    "nums1_copy = nums1[0:m].copy()\n",
    "idx = 0\n",
    "\n",
    "while m > 0 and n > 0:\n",
    "    if nums1_copy[0] < nums2[0]:\n",
    "        nums1[idx] = nums1_copy[0]\n",
    "        del nums1_copy[0]\n",
    "        m -= 1\n",
    "    else:\n",
    "        nums1[idx] = nums2[0]\n",
    "        del nums2[0]\n",
    "        n -= 1\n",
    "    idx += 1\n",
    "\n",
    "if m!=0:\n",
    "    nums1[idx:] = nums1_copy\n",
    "else:\n",
    "    nums1[idx:] = nums2\n",
    "    \n",
    "print(\"Result: \", nums1)"
   ]
  },
  {
   "cell_type": "markdown",
   "id": "a52828f1-c30c-4a3d-a581-5c095650e061",
   "metadata": {},
   "source": [
    "### 4. `Find Intersection of Two Arrays`\n",
    "\n",
    "Hash Tables (if not already sorted) and Two Pointer Algorithm (if the arrays are already sorted)"
   ]
  },
  {
   "cell_type": "code",
   "execution_count": 19,
   "id": "9ef9d4bb-30fc-4b5c-9255-e3a2e64a23bd",
   "metadata": {},
   "outputs": [
    {
     "name": "stdout",
     "output_type": "stream",
     "text": [
      "Result:  [2, 2]\n"
     ]
    }
   ],
   "source": [
    "### If the arrays are not already sorted (Using Hash Tables/Dictionaries). This method is more efficient if one of \n",
    "### the arrays is much smaller compared to the other. The smaller one can be used to create the hash table.\n",
    "\n",
    "nums1, nums2 = [1,2,2,1], [2,2]\n",
    "#nums1, nums2 = [4,9,5], [9,4,9,8,4]\n",
    "\n",
    "helper_dict = {}\n",
    "\n",
    "for i in nums1:\n",
    "    if helper_dict.get(i) is not None:\n",
    "        helper_dict[i] += 1\n",
    "    else:\n",
    "        helper_dict[i] = 1\n",
    "\n",
    "result_list = []\n",
    "for j in nums2:\n",
    "    if helper_dict.get(j) is not None:\n",
    "        if helper_dict.get(j) >= 1:\n",
    "            result_list.append(j)\n",
    "            helper_dict[j] -= 1\n",
    "\n",
    "print(\"Result: \", result_list)"
   ]
  },
  {
   "cell_type": "code",
   "execution_count": 21,
   "id": "ab789a09-56d2-41e8-aae8-4062b9b3ed04",
   "metadata": {},
   "outputs": [
    {
     "name": "stdout",
     "output_type": "stream",
     "text": [
      "[2, 2]\n"
     ]
    }
   ],
   "source": [
    "### If the arrays are already sorted (Using Two Pointer Algorithm). This is more efficient if the two arrays are pre-sorted\n",
    "\n",
    "nums1, nums2 = [1,1,2,2], [2,2]\n",
    "#nums1, nums2 = [4,5,9], [4,4,8,9,9]\n",
    "\n",
    "m, n = len(nums1), len(nums2)\n",
    "result_list = []\n",
    "i, j = 0, 0\n",
    "\n",
    "while i < m and j < n:\n",
    "    if nums1[i] < nums2[j]:\n",
    "        i += 1\n",
    "    \n",
    "    if nums1[i] > nums2[j]:\n",
    "        j += 1\n",
    "    \n",
    "    if nums1[i] == nums2[j]:\n",
    "        result_list.append(nums1[i])\n",
    "        i += 1\n",
    "        j += 1\n",
    "        \n",
    "print(result_list)"
   ]
  },
  {
   "cell_type": "markdown",
   "id": "c2f12bbb-8e69-4376-86f8-b9eff55c8313",
   "metadata": {},
   "source": [
    "### 5. `Binary Search on a Sorted Array`\n",
    "\n",
    "Recursive and Iterative Approach"
   ]
  },
  {
   "cell_type": "code",
   "execution_count": 36,
   "id": "dcba33c7-bb34-4d01-a43f-a05711a840c4",
   "metadata": {},
   "outputs": [
    {
     "name": "stdout",
     "output_type": "stream",
     "text": [
      "Result Index:  4\n"
     ]
    }
   ],
   "source": [
    "### Recurvise Approach\n",
    "\n",
    "nums = [-1,0,1,3,5,9,12]\n",
    "target = 5\n",
    "\n",
    "def binary_search(n, target, start_idx = 0):\n",
    "    pivot_point = int(len(n)/2)\n",
    "    \n",
    "    if n[pivot_point] == target:\n",
    "        return start_idx + pivot_point\n",
    "    elif len(n) == 1:\n",
    "        return -1\n",
    "    \n",
    "    if n[pivot_point] > target:\n",
    "        result = binary_search(\n",
    "            n[0:pivot_point],\n",
    "            target,\n",
    "            start_idx = start_idx\n",
    "        )\n",
    "    else:\n",
    "        result = binary_search(\n",
    "            n[pivot_point:len(n)],\n",
    "            target,\n",
    "            start_idx = start_idx + pivot_point\n",
    "        )\n",
    "        \n",
    "    return result\n",
    "        \n",
    "print(\"Result Index: \", binary_search(nums, target))"
   ]
  },
  {
   "cell_type": "code",
   "execution_count": 37,
   "id": "e1a370cd-c4f8-4db5-b7d6-c74ce7e94c20",
   "metadata": {},
   "outputs": [
    {
     "name": "stdout",
     "output_type": "stream",
     "text": [
      "Result Index:  4\n"
     ]
    }
   ],
   "source": [
    "### Iterative Approach\n",
    "\n",
    "nums = [-1,0,1,3,5,9,12]\n",
    "target = 5\n",
    "\n",
    "def binary_search(nums, target):\n",
    "    start_idx = 0\n",
    "    \n",
    "    while len(nums) > 0: \n",
    "        len_arr = len(nums)\n",
    "        pivot_point = int(len_arr/2)\n",
    "\n",
    "        if nums[pivot_point] == target:\n",
    "            return start_idx+pivot_point\n",
    "        elif len(nums) == 1:\n",
    "            return -1\n",
    "\n",
    "        if nums[pivot_point] > target:\n",
    "            nums = nums[0:pivot_point]\n",
    "            start_idx = start_idx\n",
    "        else:\n",
    "            nums = nums[pivot_point:len_arr]\n",
    "            start_idx = start_idx + pivot_point\n",
    "            \n",
    "print(\"Result Index: \", binary_search(nums, target))"
   ]
  }
 ],
 "metadata": {
  "kernelspec": {
   "display_name": "Python 3 (ipykernel)",
   "language": "python",
   "name": "python3"
  },
  "language_info": {
   "codemirror_mode": {
    "name": "ipython",
    "version": 3
   },
   "file_extension": ".py",
   "mimetype": "text/x-python",
   "name": "python",
   "nbconvert_exporter": "python",
   "pygments_lexer": "ipython3",
   "version": "3.9.12"
  }
 },
 "nbformat": 4,
 "nbformat_minor": 5
}
