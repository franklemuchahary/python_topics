{
 "cells": [
  {
   "cell_type": "markdown",
   "id": "6b129522-41c2-4d59-aaeb-e30545c91f73",
   "metadata": {},
   "source": [
    "### 1. `Kadane's Algorithm`: Finding Sub-Array with Max Sum within a given Array"
   ]
  },
  {
   "cell_type": "code",
   "execution_count": 10,
   "id": "f2708146-c077-451a-bb37-3aed57c30ac7",
   "metadata": {},
   "outputs": [
    {
     "name": "stdout",
     "output_type": "stream",
     "text": [
      "Maximum Subarray Sum:  6\n",
      "Subarray with Max Sum:  [4, -1, 2, 1]\n"
     ]
    }
   ],
   "source": [
    "#nums = [1]\n",
    "#nums = [5,4,-1,7,8]\n",
    "nums = [-2,1,-3,4,-1,2,1,-5,4]\n",
    "\n",
    "s = nums[0]\n",
    "overall_sums = nums[0]\n",
    "#0 index = start index of array, 1 index = end index of array\n",
    "start_end_indexes = [0, 0]\n",
    "\n",
    "for idx, i in enumerate(nums[1:]):\n",
    "    if i < (s + i):\n",
    "        s += i\n",
    "        #this part is needed if we want to get the subarray too. if we just want the sum, this is not needed\n",
    "        if overall_sums < s:\n",
    "            start_end_indexes[1] = idx + 1\n",
    "    else:\n",
    "        s = i\n",
    "        #this part is needed if we want to get the subarray too. if we just want the sum, this is not needed\n",
    "        start_end_indexes[0] = idx + 1\n",
    "        start_end_indexes[1] = idx + 1\n",
    "    \n",
    "    overall_sums = max(overall_sums, s)\n",
    "\n",
    "print(\"Maximum Subarray Sum: \", overall_sums)\n",
    "print(\"Subarray with Max Sum: \", nums[start_end_indexes[0]:start_end_indexes[1]+1])"
   ]
  },
  {
   "cell_type": "raw",
   "id": "948bb3bb-37c5-4435-aead-c30a39061b4d",
   "metadata": {},
   "source": []
  },
  {
   "cell_type": "markdown",
   "id": "fb13bdcd-05c0-4b2e-9713-71f35eb0d691",
   "metadata": {},
   "source": [
    "### 2. `Two Sum Problem:` Given an array of integers nums and an integer target, return indices of the two numbers such that they add up to target"
   ]
  },
  {
   "cell_type": "code",
   "execution_count": 9,
   "id": "94e50fae-ceba-4ef2-9c98-5ce73d0ddba7",
   "metadata": {},
   "outputs": [
    {
     "name": "stdout",
     "output_type": "stream",
     "text": [
      "Solution:  [0, 1]\n"
     ]
    }
   ],
   "source": [
    "nums, target = [2,7,11,15], 9\n",
    "#nums, target = [3,3], 6\n",
    "\n",
    "helper_dict = {} #hash table equivalent\n",
    "\n",
    "for idx, i in enumerate(nums):\n",
    "    target_minus_num = target - i\n",
    "    #print(i, target_minus_num, helper_dict, end=\"\\n\\n\")\n",
    "\n",
    "    if helper_dict.get(target_minus_num) is not None:\n",
    "         print(\"Solution: \", [helper_dict[target_minus_num], idx])\n",
    "\n",
    "    helper_dict[i] = idx"
   ]
  },
  {
   "cell_type": "raw",
   "id": "15ce96a3-e3f5-4448-b756-a887f8833efc",
   "metadata": {},
   "source": []
  },
  {
   "cell_type": "markdown",
   "id": "536a908b-4327-4b58-a1a0-dca62cf985ce",
   "metadata": {},
   "source": []
  }
 ],
 "metadata": {
  "kernelspec": {
   "display_name": "Python 3 (ipykernel)",
   "language": "python",
   "name": "python3"
  },
  "language_info": {
   "codemirror_mode": {
    "name": "ipython",
    "version": 3
   },
   "file_extension": ".py",
   "mimetype": "text/x-python",
   "name": "python",
   "nbconvert_exporter": "python",
   "pygments_lexer": "ipython3",
   "version": "3.9.12"
  }
 },
 "nbformat": 4,
 "nbformat_minor": 5
}
